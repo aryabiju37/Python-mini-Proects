{
 "cells": [
  {
   "cell_type": "code",
   "execution_count": 1,
   "metadata": {},
   "outputs": [
    {
     "name": "stdout",
     "output_type": "stream",
     "text": [
      "Eligible for a loan\n"
     ]
    }
   ],
   "source": [
    "high_income = True\n",
    "good_credit = True\n",
    "is_student = False\n",
    "\n",
    "if (high_income or good_credit) and not is_student:\n",
    "    print(\"Eligible for a loan\")\n",
    "\n",
    "elif (high_income and good_credit) and not is_student:\n",
    "    print(\"Fast track loan\")\n",
    "\n",
    "elif is_student and (high_income and good_credit):\n",
    "    print(\"Consideration after receiving a letter of recommendation\")\n",
    "\n",
    "elif is_student and (high_income or good_credit):\n",
    "    print(\"Not Eligible for a loan\")\n",
    "\n",
    "else:\n",
    "    print(\"You havent mentioned the customer type\")"
   ]
  }
 ],
 "metadata": {
  "kernelspec": {
   "display_name": "Python 3",
   "language": "python",
   "name": "python3"
  },
  "language_info": {
   "codemirror_mode": {
    "name": "ipython",
    "version": 3
   },
   "file_extension": ".py",
   "mimetype": "text/x-python",
   "name": "python",
   "nbconvert_exporter": "python",
   "pygments_lexer": "ipython3",
   "version": "3.8.5"
  }
 },
 "nbformat": 4,
 "nbformat_minor": 4
}
